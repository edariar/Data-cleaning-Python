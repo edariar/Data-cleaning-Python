{
 "cells": [
  {
   "cell_type": "markdown",
   "id": "b1f7fbdd",
   "metadata": {},
   "source": [
    "Recognize dates as composed of day, month, and year."
   ]
  },
  {
   "cell_type": "code",
   "execution_count": 1,
   "id": "091a53a5",
   "metadata": {},
   "outputs": [],
   "source": [
    "import pandas as pd\n",
    "import numpy as np\n",
    "\n",
    "import seaborn as sns\n",
    "\n",
    "import datetime"
   ]
  },
  {
   "cell_type": "markdown",
   "id": "3400a9df",
   "metadata": {},
   "source": [
    "If the data type of our column is *object* rather than *datetime64*, we can tell that Python doesn't know that this column contains dates."
   ]
  },
  {
   "cell_type": "code",
   "execution_count": 2,
   "id": "baaa8571",
   "metadata": {},
   "outputs": [],
   "source": [
    "def parse_dates(df, date_column, create_new_column):\n",
    "    formats = [\"%m/%d/%y\", \"%m/%d/%Y\", \"%d/%m/%y\", \"%d/%m/%Y\", \n",
    "               \"%m-%d-%y\", \"%m-%d-%Y\", \"%d-%m-%y\", \"%d-%m-%Y\"]\n",
    "    \n",
    "    if df[date_column].dtype == object:\n",
    "        if create_new_column == False:\n",
    "            for date_format in formats:\n",
    "                try:\n",
    "                    df[date_column] = pd.to_datetime(df[date_column], format=date_format)\n",
    "                    # If parsing is successful, break the loop\n",
    "                    break\n",
    "                except ValueError:\n",
    "                    # Continue trying the next format if ValueError occurs\n",
    "                    continue\n",
    "                else:\n",
    "                    # If none of the formats work, set date_column to NaT\n",
    "                    print(f\"None of the provided date formats were compatible with the data in column '{date_column}'.\")\n",
    "                    df[date_column] = pd.NaT\n",
    "\n",
    "        if create_new_column == True:\n",
    "            for date_format in formats:\n",
    "                    try:\n",
    "                        df['Date_parsed'] = pd.to_datetime(df[date_column], format=date_format)\n",
    "                        # If parsing is successful, break the loop\n",
    "                        break\n",
    "                    except ValueError:\n",
    "                        # Continue trying the next format if ValueError occurs\n",
    "                        continue\n",
    "                    else:\n",
    "                        # If none of the formats work, set 'Date_parsed' to NaT\n",
    "                        print(f\"None of the provided date formats were compatible with the data in column '{date_column}'.\")\n",
    "                        df['Date_parsed'] = pd.NaT         \n",
    "    return df"
   ]
  },
  {
   "cell_type": "markdown",
   "id": "f2154fe5",
   "metadata": {},
   "source": [
    "## Example"
   ]
  },
  {
   "cell_type": "markdown",
   "id": "9369d653",
   "metadata": {},
   "source": [
    "Here I've imported another data frame, where there is a column with dates."
   ]
  },
  {
   "cell_type": "code",
   "execution_count": 4,
   "id": "d172c99c",
   "metadata": {},
   "outputs": [
    {
     "data": {
      "text/plain": [
       "0      2021-09-25\n",
       "1      2021-09-24\n",
       "2      2021-09-24\n",
       "3      2021-09-22\n",
       "4      2021-09-24\n",
       "          ...    \n",
       "8785   2017-01-17\n",
       "8786   2018-09-13\n",
       "8787   2016-12-15\n",
       "8788   2018-06-23\n",
       "8789   2018-06-07\n",
       "Name: Date_parsed, Length: 8790, dtype: datetime64[ns]"
      ]
     },
     "execution_count": 4,
     "metadata": {},
     "output_type": "execute_result"
    }
   ],
   "source": [
    "netflix = pd.read_csv(\"netflix1.csv\")\n",
    "parse_dates(netflix, 'date_added', True)['Date_parsed']"
   ]
  },
  {
   "cell_type": "markdown",
   "id": "dade501f",
   "metadata": {},
   "source": [
    "Now we can get any information we need (like days, months, years):"
   ]
  },
  {
   "cell_type": "code",
   "execution_count": 5,
   "id": "9d359634",
   "metadata": {},
   "outputs": [
    {
     "data": {
      "text/plain": [
       "0       2021\n",
       "1       2021\n",
       "2       2021\n",
       "3       2021\n",
       "4       2021\n",
       "        ... \n",
       "8785    2017\n",
       "8786    2018\n",
       "8787    2016\n",
       "8788    2018\n",
       "8789    2018\n",
       "Name: Date_parsed, Length: 8790, dtype: int64"
      ]
     },
     "execution_count": 5,
     "metadata": {},
     "output_type": "execute_result"
    }
   ],
   "source": [
    "netflix['Date_parsed'].dt.day\n",
    "netflix['Date_parsed'].dt.month\n",
    "netflix['Date_parsed'].dt.year"
   ]
  },
  {
   "cell_type": "markdown",
   "id": "0a638225",
   "metadata": {},
   "source": [
    "**What if I run into an error with multiple date formats?** While we're specifying the date format here, sometimes you'll run into an error when there are multiple date formats in a single column. If that happens, you can have pandas try to infer what the right date format should be. You can do that like so:\n",
    "\n",
    "*df['Date_parsed'] = pd.to_datetime(df['Dates'], infer_datetime_format=True)*\n",
    "\n",
    "But this method it's much slower and not always it's possible authomatically check the data type."
   ]
  },
  {
   "cell_type": "markdown",
   "id": "b8df83d8",
   "metadata": {},
   "source": [
    "To check that we are not confusing days with months, we can view that the length is the correct:"
   ]
  },
  {
   "cell_type": "code",
   "execution_count": 8,
   "id": "cd1ee069",
   "metadata": {},
   "outputs": [
    {
     "data": {
      "text/plain": [
       "12"
      ]
     },
     "execution_count": 8,
     "metadata": {},
     "output_type": "execute_result"
    }
   ],
   "source": [
    "len(netflix['Date_parsed'].dt.month.unique())"
   ]
  },
  {
   "cell_type": "code",
   "execution_count": 9,
   "id": "0ad5ba75",
   "metadata": {},
   "outputs": [
    {
     "data": {
      "text/plain": [
       "31"
      ]
     },
     "execution_count": 9,
     "metadata": {},
     "output_type": "execute_result"
    }
   ],
   "source": [
    "len(netflix['Date_parsed'].dt.day.unique())"
   ]
  }
 ],
 "metadata": {
  "kernelspec": {
   "display_name": "Python 3 (ipykernel)",
   "language": "python",
   "name": "python3"
  },
  "language_info": {
   "codemirror_mode": {
    "name": "ipython",
    "version": 3
   },
   "file_extension": ".py",
   "mimetype": "text/x-python",
   "name": "python",
   "nbconvert_exporter": "python",
   "pygments_lexer": "ipython3",
   "version": "3.9.13"
  }
 },
 "nbformat": 4,
 "nbformat_minor": 5
}
